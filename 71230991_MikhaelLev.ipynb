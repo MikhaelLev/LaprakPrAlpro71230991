{
  "nbformat": 4,
  "nbformat_minor": 0,
  "metadata": {
    "colab": {
      "provenance": []
    },
    "kernelspec": {
      "name": "python3",
      "display_name": "Python 3"
    },
    "language_info": {
      "name": "python"
    }
  },
  "cells": [
    {
      "cell_type": "markdown",
      "source": [
        "Soal 1\n"
      ],
      "metadata": {
        "id": "avB9awTze3gb"
      }
    },
    {
      "cell_type": "code",
      "source": [
        "tinggi_badan = float(input(\"masukkan tinggi! : \"))\n",
        "berat_badan = int (input(\"masukkan berat! : \"))\n",
        "\n",
        "rumusBmi = berat_badan / (tinggi_badan * tinggi_badan)\n",
        "print(\"BMI kamu adalah : \", round(rumusBmi))"
      ],
      "metadata": {
        "id": "wqyFietAe5hh"
      },
      "execution_count": null,
      "outputs": []
    },
    {
      "cell_type": "markdown",
      "source": [
        "Soal 2\n"
      ],
      "metadata": {
        "id": "A7UhJ_wcfDZw"
      }
    },
    {
      "cell_type": "code",
      "source": [
        "x = int (input(\"masukkan nilai fungsi : \"))\n",
        "fungsi = (2 * x ** 3) + (2 * x) + (15/x)\n",
        "print(\"hasil dari fungsi : \", round(fungsi))"
      ],
      "metadata": {
        "id": "0d2q4PP4fNEH"
      },
      "execution_count": null,
      "outputs": []
    },
    {
      "cell_type": "markdown",
      "source": [
        "Soal 3\n"
      ],
      "metadata": {
        "id": "RR6TjCrsfQFD"
      }
    },
    {
      "cell_type": "code",
      "source": [
        "gaji_budi_per_jam = int(input (\"jumlah gaji Budi per jam : \"))\n",
        "jumlah_jam_kerja = int(input (\"jumlah jam kerja Budi dalam seminggu : \"))\n",
        "\n",
        "sebelum_bayar_pajak = (jumlah_jam_kerja * 5) * gaji_budi_per_jam\n",
        "print(\"Gaji sebelum bayar pajak : \", sebelum_bayar_pajak)\n",
        "\n",
        "nilai_pajak = sebelum_bayar_pajak * 0.14\n",
        "gaji_budi = sebelum_bayar_pajak - nilai_pajak\n",
        "print(\"Gaji bersih Budi : \", round(gaji_budi))\n",
        "\n",
        "pembelian_aksesoris = gaji_budi * 0.1\n",
        "print(\"jumlah duit untuk aksesoris : \", round(pembelian_aksesoris))\n",
        "sisa_uang_budi1 = gaji_budi - pembelian_aksesoris\n",
        "print(\"sisa saldo budi untuk membeli aksesoris : \", round(sisa_uang_budi1))\n",
        "\n",
        "pembelian_alat_tulis = gaji_budi * 0.01\n",
        "print(\"jumlah duit untuk alat tulis : \", round(pembelian_alat_tulis))\n",
        "sisa_uang_budi2 = sisa_uang_budi1 - pembelian_alat_tulis\n",
        "print(\"sisa saldo Budi untuk membeli alat tulis : \", round(sisa_uang_budi2))\n",
        "\n",
        "sedekah_Budi = sisa_uang_budi2 * 0.25\n",
        "print(\"uang yang digunakan Budi untuk bersedekah : \", round(sedekah_Budi))\n",
        "sisa_uang_budi3 = sisa_uang_budi2 - sedekah_Budi\n",
        "print(\"sisa saldo Budi setelah bersedekah : \", round(sisa_uang_budi3))\n",
        "\n",
        "sedekah_per_seribu = sedekah_Budi\n",
        "while sedekah_per_seribu % 1000 == 0 and sedekah_per_seribu >= 1000 or sedekah_per_seribu % 1000 != 0 and sedekah_per_seribu >= 1000 :\n",
        "    sedekah_per_seribu -= 1000\n",
        "\n",
        "sedekah_anak_yatim = (sedekah_Budi - sedekah_per_seribu) * 0.3\n",
        "print(\"Uang Budi untuk sedekah anak yatim : \", round(sedekah_anak_yatim))\n",
        "sedekah_khusus_dhuafa = (sedekah_Budi - sedekah_per_seribu) * 0.7\n",
        "print(\"Uang Budi untuk sedekah khsusu dhuafa : \", round(sedekah_khusus_dhuafa))"
      ],
      "metadata": {
        "id": "aqdI5npZfSFj"
      },
      "execution_count": null,
      "outputs": []
    }
  ]
}